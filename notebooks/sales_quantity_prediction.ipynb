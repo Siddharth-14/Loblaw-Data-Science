{
 "cells": [
  {
   "cell_type": "code",
   "execution_count": 161,
   "metadata": {},
   "outputs": [],
   "source": [
    "from google.cloud import bigquery\n",
    "import pandas as pd\n",
    "import numpy as np\n",
    "from sklearn.metrics import mean_absolute_error, mean_squared_error\n",
    "from sklearn.ensemble import RandomForestRegressor\n",
    "import pickle\n",
    "import os"
   ]
  },
  {
   "cell_type": "code",
   "execution_count": 162,
   "metadata": {},
   "outputs": [
    {
     "name": "stderr",
     "output_type": "stream",
     "text": [
      "/Users/siddharthgoradia/Documents/Loblaw-Data-Science/.venv/lib/python3.13/site-packages/google/auth/_default.py:76: UserWarning: Your application has authenticated using end user credentials from Google Cloud SDK without a quota project. You might receive a \"quota exceeded\" or \"API not enabled\" error. See the following page for troubleshooting: https://cloud.google.com/docs/authentication/adc-troubleshooting/user-creds. \n",
      "  warnings.warn(_CLOUD_SDK_CREDENTIALS_WARNING)\n"
     ]
    }
   ],
   "source": [
    "client = bigquery.Client(project='big-sales-data-453023')\n",
    "query = \"\"\"\n",
    "    SELECT * FROM `big-sales-data-453023.sales_data.sales`;\n",
    "\"\"\"\n",
    "data = client.query(query).to_dataframe()"
   ]
  },
  {
   "cell_type": "code",
   "execution_count": 163,
   "metadata": {},
   "outputs": [
    {
     "name": "stdout",
     "output_type": "stream",
     "text": [
      "   order_id       product  quantity_ordered  price_each           order_date  \\\n",
      "0  176588.0  20in Monitor               1.0         1.0  2019-04-02 04:00:00   \n",
      "1  176659.0  20in Monitor               1.0         1.0  2019-04-29 14:40:00   \n",
      "2  176673.0  20in Monitor               1.0         1.0  2019-04-10 08:17:00   \n",
      "3  176690.0  20in Monitor               1.0         1.0  2019-04-04 18:33:00   \n",
      "4  176703.0  20in Monitor               1.0         1.0  2019-04-17 10:00:00   \n",
      "\n",
      "                             purchase_address  \n",
      "0            765 Cherry St, Seattle, WA 98101  \n",
      "1             804 Church St, Dallas, TX 75001  \n",
      "2                952 1st St, Boston, MA 02215  \n",
      "3      873 Sunset St, San Francisco, CA 94016  \n",
      "4  748 Washington St, New York City, NY 10001  \n",
      "<class 'pandas.core.frame.DataFrame'>\n",
      "RangeIndex: 185686 entries, 0 to 185685\n",
      "Data columns (total 6 columns):\n",
      " #   Column            Non-Null Count   Dtype  \n",
      "---  ------            --------------   -----  \n",
      " 0   order_id          185686 non-null  float64\n",
      " 1   product           185686 non-null  object \n",
      " 2   quantity_ordered  185686 non-null  float64\n",
      " 3   price_each        185686 non-null  float64\n",
      " 4   order_date        185686 non-null  object \n",
      " 5   purchase_address  185686 non-null  object \n",
      "dtypes: float64(3), object(3)\n",
      "memory usage: 8.5+ MB\n",
      "None\n"
     ]
    }
   ],
   "source": [
    "print(data.head())\n",
    "print(data.info())"
   ]
  },
  {
   "cell_type": "code",
   "execution_count": 164,
   "metadata": {},
   "outputs": [],
   "source": [
    "data['order_date'] = pd.to_datetime(data['order_date'])"
   ]
  },
  {
   "cell_type": "code",
   "execution_count": 165,
   "metadata": {},
   "outputs": [
    {
     "name": "stdout",
     "output_type": "stream",
     "text": [
      "Train data range: 2019-01-01 03:07:00 - 2019-09-30 23:59:00\n",
      "Test data range: 2019-10-01 00:09:00 - 2019-12-31 00:00:00\n"
     ]
    }
   ],
   "source": [
    "train_data = data[data['order_date'] < '2019-10-01'].copy()\n",
    "test_data = data[(data['order_date'] >= '2019-10-01') & (data['order_date'] <= '2019-12-31')].copy()\n",
    "\n",
    "print(\"Train data range:\", train_data['order_date'].min(), \"-\", train_data['order_date'].max())\n",
    "print(\"Test data range:\", test_data['order_date'].min(), \"-\", test_data['order_date'].max())\n"
   ]
  },
  {
   "cell_type": "code",
   "execution_count": 166,
   "metadata": {},
   "outputs": [],
   "source": [
    "def create_time_features(df):\n",
    "    df = df.copy()\n",
    "    df['day'] = df['order_date'].dt.day\n",
    "    df['month'] = df['order_date'].dt.month\n",
    "    df['week'] = df['order_date'].dt.isocalendar().week.astype(int)\n",
    "    df['day_of_week'] = df['order_date'].dt.dayofweek\n",
    "    df['is_weekend'] = df['day_of_week'].isin([5,6]).astype(int)\n",
    "    return df\n",
    "\n",
    "train_data = create_time_features(train_data)\n",
    "test_data = create_time_features(test_data)"
   ]
  },
  {
   "cell_type": "code",
   "execution_count": 167,
   "metadata": {},
   "outputs": [],
   "source": [
    "train_data = train_data.sort_values(['product', 'order_date']).copy()\n",
    "train_data['lag_1'] = train_data.groupby('product')['quantity_ordered'].shift(1)\n",
    "train_data['rolling_mean_7'] = train_data.groupby('product')['quantity_ordered']\\\n",
    "    .transform(lambda x: x.shift(1).rolling(window=7, min_periods=1).mean())\n",
    "\n",
    "for col in ['lag_1', 'rolling_mean_7']:\n",
    "    train_data[col] = train_data.groupby('product')[col].transform(lambda x: x.fillna(x.mean()))\n",
    "\n",
    "def compute_test_features(test_df, train_df, lag_days=1, window=7):\n",
    "    test_dfs = []\n",
    "    for pid in test_df['product'].unique():\n",
    "        train_subset = train_df[train_df['product'] == pid].sort_values('order_date')\n",
    "        history = train_subset.tail(window)\n",
    "        test_subset = test_df[test_df['product'] == pid].sort_values('order_date')\n",
    "        \n",
    "        combined = pd.concat([history, test_subset], ignore_index=True)\n",
    "        \n",
    "        combined['lag_1'] = combined.groupby('product')['quantity_ordered'].shift(lag_days)\n",
    "        combined['rolling_mean_7'] = combined.groupby('product')['quantity_ordered']\\\n",
    "            .transform(lambda x: x.shift(1).rolling(window=window, min_periods=1).mean())\n",
    "        \n",
    "        for col in ['lag_1', 'rolling_mean_7']:\n",
    "            combined[col] = combined.groupby('product')[col].transform(lambda x: x.fillna(x.mean()))\n",
    "        \n",
    "        test_features = combined.iloc[history.shape[0]:].copy()\n",
    "        test_dfs.append(test_features)\n",
    "    return pd.concat(test_dfs, ignore_index=True)\n",
    "\n",
    "test_data = compute_test_features(test_data, train_data, lag_days=1, window=7)"
   ]
  },
  {
   "cell_type": "code",
   "execution_count": 168,
   "metadata": {},
   "outputs": [
    {
     "name": "stdout",
     "output_type": "stream",
     "text": [
      "Top 5 products by Sales Value: ['AAA Batteries (4-pack)', 'AA Batteries (4-pack)', 'USB-C Charging Cable', 'Lightning Charging Cable', 'Wired Headphones']\n"
     ]
    }
   ],
   "source": [
    "if 'Sales_Value' not in data.columns:\n",
    "    data['Sales_Value'] = data['quantity_ordered'] * data['price_each']\n",
    "\n",
    "product_sales = data.groupby(\"product\")[\"Sales_Value\"].sum().sort_values(ascending=False)\n",
    "top5_products = product_sales.head(5).index.tolist()\n",
    "print(\"Top 5 products by Sales Value:\", top5_products)"
   ]
  },
  {
   "cell_type": "code",
   "execution_count": 169,
   "metadata": {},
   "outputs": [
    {
     "name": "stdout",
     "output_type": "stream",
     "text": [
      "\n",
      "--- Processing Product AAA Batteries (4-pack) ---\n",
      "RandomForest -> MAE: 4.169062679700953e-05, RMSE: 0.0017167108178730611\n",
      "\n",
      "--- Processing Product AA Batteries (4-pack) ---\n",
      "RandomForest -> MAE: 9.963369963369985e-05, RMSE: 0.005925050810434217\n",
      "\n",
      "--- Processing Product USB-C Charging Cable ---\n",
      "RandomForest -> MAE: 0.00023303075464029249, RMSE: 0.008399972903356914\n",
      "\n",
      "--- Processing Product Lightning Charging Cable ---\n",
      "RandomForest -> MAE: 2.75292498279416e-06, RMSE: 0.00016591940762894803\n",
      "\n",
      "--- Processing Product Wired Headphones ---\n",
      "RandomForest -> MAE: 0.0, RMSE: 0.0\n"
     ]
    }
   ],
   "source": [
    "features = ['day', 'month', 'week', 'day_of_week', 'is_weekend', 'price_each', 'lag_1', 'rolling_mean_7']\n",
    "\n",
    "results = {}\n",
    "saved_models = {}\n",
    "\n",
    "for pid in top5_products:\n",
    "    print(f\"\\n--- Processing Product {pid} ---\")\n",
    "    \n",
    "    train_prod = train_data[train_data['product'] == pid].copy()\n",
    "    test_prod = test_data[test_data['product'] == pid].copy()\n",
    "    \n",
    "    if train_prod.shape[0] < 20 or test_prod.shape[0] < 5:\n",
    "        print(f\"Not enough data for Product {pid}. Skipping.\")\n",
    "        continue\n",
    "    \n",
    "    X_train = train_prod[features]\n",
    "    y_train = train_prod['quantity_ordered']\n",
    "    X_test = test_prod[features]\n",
    "    y_test = test_prod['quantity_ordered']\n",
    "    \n",
    "    models = {\n",
    "        'RandomForest': RandomForestRegressor(random_state=42)\n",
    "    }\n",
    "    \n",
    "    product_results = {}\n",
    "    product_models = {}\n",
    "    for name, model in models.items():\n",
    "        model.fit(X_train, y_train)\n",
    "        preds = model.predict(X_test)\n",
    "        mae = mean_absolute_error(y_test, preds)\n",
    "        rmse = np.sqrt(mean_squared_error(y_test, preds))\n",
    "        product_results[name] = {'MAE': mae, 'RMSE': rmse}\n",
    "        print(f\"{name} -> MAE: {mae}, RMSE: {rmse}\")\n",
    "        product_models[name] = model\n",
    "    \n",
    "    results[pid] = product_results\n",
    "    saved_models[pid] = product_models"
   ]
  },
  {
   "cell_type": "code",
   "execution_count": 170,
   "metadata": {},
   "outputs": [],
   "source": [
    "os.makedirs(\"../models\", exist_ok=True)"
   ]
  },
  {
   "cell_type": "code",
   "execution_count": 171,
   "metadata": {},
   "outputs": [
    {
     "name": "stdout",
     "output_type": "stream",
     "text": [
      "Saved model for AAA Batteries (4-pack) - RandomForest to ../models/AAA_Batteries_4-pack.pkl\n",
      "Saved model for AA Batteries (4-pack) - RandomForest to ../models/AA_Batteries_4-pack.pkl\n",
      "Saved model for USB-C Charging Cable - RandomForest to ../models/USB-C_Charging_Cable.pkl\n",
      "Saved model for Lightning Charging Cable - RandomForest to ../models/Lightning_Charging_Cable.pkl\n",
      "Saved model for Wired Headphones - RandomForest to ../models/Wired_Headphones.pkl\n"
     ]
    }
   ],
   "source": [
    "for pid, product_models in saved_models.items():\n",
    "    for _, model in product_models.items():\n",
    "        filename = f\"../models/{pid.replace(' ', '_').replace('(', '').replace(')', '')}.pkl\"\n",
    "        with open(filename, \"wb\") as f:\n",
    "            pickle.dump(model, f)\n",
    "        print(f\"Saved model for {pid} - {name} to {filename}\")"
   ]
  }
 ],
 "metadata": {
  "kernelspec": {
   "display_name": ".venv",
   "language": "python",
   "name": "python3"
  },
  "language_info": {
   "codemirror_mode": {
    "name": "ipython",
    "version": 3
   },
   "file_extension": ".py",
   "mimetype": "text/x-python",
   "name": "python",
   "nbconvert_exporter": "python",
   "pygments_lexer": "ipython3",
   "version": "3.13.1"
  }
 },
 "nbformat": 4,
 "nbformat_minor": 2
}
