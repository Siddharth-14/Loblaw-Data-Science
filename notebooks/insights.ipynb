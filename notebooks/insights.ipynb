{
 "cells": [
  {
   "cell_type": "code",
   "execution_count": 2,
   "metadata": {},
   "outputs": [
    {
     "name": "stderr",
     "output_type": "stream",
     "text": [
      "Matplotlib is building the font cache; this may take a moment.\n"
     ]
    }
   ],
   "source": [
    "import pandas as pd\n",
    "import matplotlib.pyplot as plt\n",
    "import seaborn as sns\n",
    "from google.cloud import bigquery"
   ]
  },
  {
   "cell_type": "code",
   "execution_count": 5,
   "metadata": {},
   "outputs": [
    {
     "name": "stderr",
     "output_type": "stream",
     "text": [
      "/Users/siddharthgoradia/Documents/Loblaw-Data-Science/.venv/lib/python3.13/site-packages/google/auth/_default.py:76: UserWarning: Your application has authenticated using end user credentials from Google Cloud SDK without a quota project. You might receive a \"quota exceeded\" or \"API not enabled\" error. See the following page for troubleshooting: https://cloud.google.com/docs/authentication/adc-troubleshooting/user-creds. \n",
      "  warnings.warn(_CLOUD_SDK_CREDENTIALS_WARNING)\n"
     ]
    }
   ],
   "source": [
    "# Initialize BigQuery client\n",
    "client = bigquery.Client(project='big-sales-data-453023')\n",
    "\n",
    "# Fetch entire dataset from BigQuery\n",
    "query = \"\"\"\n",
    "    SELECT * FROM `big-sales-data-453023.sales_data.sales`;\n",
    "\"\"\"\n",
    "data = client.query(query).to_dataframe()"
   ]
  },
  {
   "cell_type": "code",
   "execution_count": null,
   "metadata": {},
   "outputs": [],
   "source": [
    "# Convert date columns to datetime format\n",
    "data['order_date'] = pd.to_datetime(data['order_date'], errors='coerce')\n",
    "\n",
    "# Extract required time-based features\n",
    "data['month'] = data['order_date'].dt.month\n",
    "data['hour'] = data['order_date'].dt.hour\n",
    "\n",
    "# Compute total sales\n",
    "data['total_sales'] = data['quantity_ordered'] * data['price_each']\n",
    "\n",
    "# Monthly Sales Trend\n",
    "monthly_sales = data.groupby('month')['total_sales'].sum().reset_index()\n",
    "plt.figure(figsize=(10,5))\n",
    "sns.lineplot(x=monthly_sales['month'], y=monthly_sales['total_sales'], marker='o')\n",
    "plt.xlabel(\"Month\")\n",
    "plt.ylabel(\"Total Sales ($)\")\n",
    "plt.title(\"Monthly Sales Trend\")\n",
    "plt.xticks(range(1,13))\n",
    "plt.grid()\n",
    "plt.show()\n",
    "\n",
    "# Peak Sales Hours\n",
    "hourly_sales = data.groupby('hour')['total_sales'].sum().reset_index()\n",
    "plt.figure(figsize=(10,5))\n",
    "sns.barplot(x=hourly_sales['hour'], y=hourly_sales['total_sales'])\n",
    "plt.xlabel(\"Hour of Day\")\n",
    "plt.ylabel(\"Total Sales ($)\")\n",
    "plt.title(\"Peak Sales Hours\")\n",
    "plt.xticks(range(0,24))\n",
    "plt.grid()\n",
    "plt.show()\n",
    "\n",
    "# Top Selling Products\n",
    "top_products = data.groupby('product_name').agg({\n",
    "    'quantity_ordered': 'sum',\n",
    "    'total_sales': 'sum'\n",
    "}).reset_index().sort_values(by='total_sales', ascending=False).head(10)\n",
    "plt.figure(figsize=(12,6))\n",
    "sns.barplot(y=top_products['product_name'], x=top_products['total_sales'])\n",
    "plt.xlabel(\"Total Revenue ($)\")\n",
    "plt.ylabel(\"Product Name\")\n",
    "plt.title(\"Top Selling Products\")\n",
    "plt.grid()\n",
    "plt.show()\n",
    "\n",
    "# Insights Summary\n",
    "print(\"\\nActionable Insights:\")\n",
    "print(\"1. December has the highest sales. Focus on holiday promotions.\")\n",
    "print(\"2. Peak sales occur between 6-9 PM. Optimize marketing campaigns for these hours.\")\n",
    "print(\"3. Top 5 products contribute ~50% of revenue. Prioritize inventory and promotions.\")\n"
   ]
  }
 ],
 "metadata": {
  "kernelspec": {
   "display_name": ".venv",
   "language": "python",
   "name": "python3"
  },
  "language_info": {
   "codemirror_mode": {
    "name": "ipython",
    "version": 3
   },
   "file_extension": ".py",
   "mimetype": "text/x-python",
   "name": "python",
   "nbconvert_exporter": "python",
   "pygments_lexer": "ipython3",
   "version": "3.13.1"
  }
 },
 "nbformat": 4,
 "nbformat_minor": 2
}
