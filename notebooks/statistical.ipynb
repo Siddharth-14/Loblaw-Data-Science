{
 "cells": [
  {
   "cell_type": "code",
   "execution_count": 1,
   "metadata": {},
   "outputs": [
    {
     "name": "stderr",
     "output_type": "stream",
     "text": [
      "/Users/siddharthgoradia/Documents/Loblaw-Data-Science/.venv/lib/python3.13/site-packages/tqdm/auto.py:21: TqdmWarning: IProgress not found. Please update jupyter and ipywidgets. See https://ipywidgets.readthedocs.io/en/stable/user_install.html\n",
      "  from .autonotebook import tqdm as notebook_tqdm\n"
     ]
    }
   ],
   "source": [
    "import pandas as pd\n",
    "import scipy.stats as stats\n",
    "import kagglehub\n",
    "import matplotlib.pyplot as plt\n",
    "import os\n",
    "import numpy as np\n",
    "import statsmodels.api as sm\n",
    "import statsmodels.formula.api as ols"
   ]
  },
  {
   "cell_type": "code",
   "execution_count": null,
   "metadata": {},
   "outputs": [
    {
     "name": "stdout",
     "output_type": "stream",
     "text": [
      "Path to dataset files: /Users/siddharthgoradia/.cache/kagglehub/datasets/alexteboul/diabetes-health-indicators-dataset/versions/1\n"
     ]
    }
   ],
   "source": [
    "# path = kagglehub.dataset_download(\"alexteboul/diabetes-health-indicators-dataset\")\n",
    "\n",
    "# print(\"Path to dataset files:\", path)"
   ]
  },
  {
   "cell_type": "code",
   "execution_count": null,
   "metadata": {},
   "outputs": [],
   "source": [
    "# temp_data = pd.read_csv('/Users/siddharthgoradia/.cache/kagglehub/datasets/alexteboul/diabetes-health-indicators-dataset/versions/1/diabetes_012_health_indicators_BRFSS2015.csv')\n",
    "# temp_data.rename(columns={\"Diabetes_012\": \"Diabetes_binary\"}, inplace=True)\n",
    "# temp_data.to_csv('/Users/siddharthgoradia/.cache/kagglehub/datasets/alexteboul/diabetes-health-indicators-dataset/versions/1/diabetes_012_health_indicators_BRFSS2015.csv', index=False)"
   ]
  },
  {
   "cell_type": "code",
   "execution_count": 2,
   "metadata": {},
   "outputs": [],
   "source": [
    "temp_data = pd.read_csv('../data/diabetes_012_health_indicators_BRFSS2015.csv')\n",
    "temp_data.rename(columns={\"Diabetes_012\": \"Diabetes_binary\"}, inplace=True)\n",
    "temp_data.to_csv('../data/diabetes_012_health_indicators_BRFSS2015.csv', index=False)\n",
    "path = '../data'"
   ]
  },
  {
   "cell_type": "code",
   "execution_count": 3,
   "metadata": {},
   "outputs": [
    {
     "name": "stdout",
     "output_type": "stream",
     "text": [
      "<class 'pandas.core.frame.DataFrame'>\n",
      "RangeIndex: 578052 entries, 0 to 578051\n",
      "Data columns (total 22 columns):\n",
      " #   Column                Non-Null Count   Dtype  \n",
      "---  ------                --------------   -----  \n",
      " 0   Diabetes_binary       578052 non-null  float64\n",
      " 1   HighBP                578052 non-null  float64\n",
      " 2   HighChol              578052 non-null  float64\n",
      " 3   CholCheck             578052 non-null  float64\n",
      " 4   BMI                   578052 non-null  float64\n",
      " 5   Smoker                578052 non-null  float64\n",
      " 6   Stroke                578052 non-null  float64\n",
      " 7   HeartDiseaseorAttack  578052 non-null  float64\n",
      " 8   PhysActivity          578052 non-null  float64\n",
      " 9   Fruits                578052 non-null  float64\n",
      " 10  Veggies               578052 non-null  float64\n",
      " 11  HvyAlcoholConsump     578052 non-null  float64\n",
      " 12  AnyHealthcare         578052 non-null  float64\n",
      " 13  NoDocbcCost           578052 non-null  float64\n",
      " 14  GenHlth               578052 non-null  float64\n",
      " 15  MentHlth              578052 non-null  float64\n",
      " 16  PhysHlth              578052 non-null  float64\n",
      " 17  DiffWalk              578052 non-null  float64\n",
      " 18  Sex                   578052 non-null  float64\n",
      " 19  Age                   578052 non-null  float64\n",
      " 20  Education             578052 non-null  float64\n",
      " 21  Income                578052 non-null  float64\n",
      "dtypes: float64(22)\n",
      "memory usage: 97.0 MB\n",
      "None\n",
      "   Diabetes_binary  HighBP  HighChol  CholCheck   BMI  Smoker  Stroke  \\\n",
      "0              0.0     1.0       1.0        1.0  40.0     1.0     0.0   \n",
      "1              0.0     0.0       0.0        0.0  25.0     1.0     0.0   \n",
      "2              0.0     1.0       1.0        1.0  28.0     0.0     0.0   \n",
      "3              0.0     1.0       0.0        1.0  27.0     0.0     0.0   \n",
      "4              0.0     1.0       1.0        1.0  24.0     0.0     0.0   \n",
      "\n",
      "   HeartDiseaseorAttack  PhysActivity  Fruits  ...  AnyHealthcare  \\\n",
      "0                   0.0           0.0     0.0  ...            1.0   \n",
      "1                   0.0           1.0     0.0  ...            0.0   \n",
      "2                   0.0           0.0     1.0  ...            1.0   \n",
      "3                   0.0           1.0     1.0  ...            1.0   \n",
      "4                   0.0           1.0     1.0  ...            1.0   \n",
      "\n",
      "   NoDocbcCost  GenHlth  MentHlth  PhysHlth  DiffWalk  Sex   Age  Education  \\\n",
      "0          0.0      5.0      18.0      15.0       1.0  0.0   9.0        4.0   \n",
      "1          1.0      3.0       0.0       0.0       0.0  0.0   7.0        6.0   \n",
      "2          1.0      5.0      30.0      30.0       1.0  0.0   9.0        4.0   \n",
      "3          0.0      2.0       0.0       0.0       0.0  0.0  11.0        3.0   \n",
      "4          0.0      2.0       3.0       0.0       0.0  0.0  11.0        5.0   \n",
      "\n",
      "   Income  \n",
      "0     3.0  \n",
      "1     1.0  \n",
      "2     8.0  \n",
      "3     6.0  \n",
      "4     4.0  \n",
      "\n",
      "[5 rows x 22 columns]\n"
     ]
    }
   ],
   "source": [
    "csv_files = [f for f in os.listdir(path) if f.startswith(\"diabetes_\") and f.endswith(\".csv\")]\n",
    "\n",
    "df_list = [pd.read_csv(os.path.join(path, file)) for file in csv_files]\n",
    "df = pd.concat(df_list, ignore_index=True)\n",
    "\n",
    "print(df.info())\n",
    "print(df.head())"
   ]
  },
  {
   "cell_type": "code",
   "execution_count": 69,
   "metadata": {},
   "outputs": [],
   "source": [
    "df['Diabetes_binary'] = df['Diabetes_binary'].apply(lambda x: 0 if x == 0 else 1)"
   ]
  },
  {
   "cell_type": "markdown",
   "metadata": {},
   "source": [
    "## Appropriate statistical method of your choice, identify the risk factors associated with having diabetes based on the data."
   ]
  },
  {
   "cell_type": "code",
   "execution_count": 70,
   "metadata": {},
   "outputs": [
    {
     "name": "stdout",
     "output_type": "stream",
     "text": [
      "Chi-square test for HighBP: p-value = 0.0\n",
      "Chi-square test for HighChol: p-value = 0.0\n",
      "Chi-square test for CholCheck: p-value = 0.0\n",
      "Chi-square test for Smoker: p-value = 0.0\n",
      "Chi-square test for Stroke: p-value = 0.0\n",
      "Chi-square test for HeartDiseaseorAttack: p-value = 0.0\n",
      "Chi-square test for PhysActivity: p-value = 0.0\n",
      "Chi-square test for Fruits: p-value = 3.6762259248600327e-265\n",
      "Chi-square test for Veggies: p-value = 0.0\n",
      "Chi-square test for HvyAlcoholConsump: p-value = 0.0\n",
      "Chi-square test for AnyHealthcare: p-value = 2.1682047074019574e-39\n",
      "Chi-square test for NoDocbcCost: p-value = 7.088444212367763e-178\n",
      "Chi-square test for GenHlth: p-value = 0.0\n",
      "Chi-square test for DiffWalk: p-value = 0.0\n",
      "T-test for BMI: p-value = 0.0\n",
      "T-test for MentHlth: p-value = 0.0\n",
      "T-test for PhysHlth: p-value = 0.0\n",
      "T-test for Age: p-value = 0.0\n",
      "T-test for Education: p-value = 0.0\n",
      "T-test for Income: p-value = 0.0\n"
     ]
    }
   ],
   "source": [
    "categorical_vars = ['HighBP', 'HighChol', 'CholCheck', 'Smoker','Stroke', 'HeartDiseaseorAttack', 'PhysActivity', 'Fruits', 'Veggies','HvyAlcoholConsump', 'AnyHealthcare', 'NoDocbcCost', 'GenHlth', 'DiffWalk']\n",
    "continuous_vars = ['BMI', 'MentHlth', 'PhysHlth', 'Age', 'Education','Income'] \n",
    "\n",
    "for var in categorical_vars:\n",
    "    contingency_table = pd.crosstab(df[var], df['Diabetes_binary'])\n",
    "    chi2, p, _, _ = stats.chi2_contingency(contingency_table)\n",
    "    print(f'Chi-square test for {var}: p-value = {p}')\n",
    "\n",
    "for var in continuous_vars:\n",
    "    group0 = df[df['Diabetes_binary'] == 0][var]\n",
    "    group1 = df[df['Diabetes_binary'] == 1][var]\n",
    "    t_stat, p = stats.ttest_ind(group0, group1)\n",
    "    print(f'T-test for {var}: p-value = {p}')"
   ]
  },
  {
   "cell_type": "markdown",
   "metadata": {},
   "source": [
    "## Check whether individuals with a higher BMI are more likely to have diabetes (including both diabetes and pre-diabetes classifications)"
   ]
  },
  {
   "cell_type": "code",
   "execution_count": 71,
   "metadata": {},
   "outputs": [
    {
     "name": "stdout",
     "output_type": "stream",
     "text": [
      "Independent t-test results:\n",
      "T-statistic = -172.15694\n",
      "P-value = 0.00000\n",
      "Cohen's d (effect size) = 0.60289\n"
     ]
    }
   ],
   "source": [
    "bmi_no_diabetes = df[df['Diabetes_binary'] == 0]['BMI']\n",
    "bmi_diabetes = df[df['Diabetes_binary'] == 1]['BMI']\n",
    "\n",
    "t_stat, p_value = stats.ttest_ind(bmi_no_diabetes, bmi_diabetes, equal_var=False)\n",
    "\n",
    "mean_diff = np.mean(bmi_diabetes) - np.mean(bmi_no_diabetes)\n",
    "pooled_std = np.sqrt((np.var(bmi_diabetes, ddof=1) + np.var(bmi_no_diabetes, ddof=1)) / 2)\n",
    "cohen_d = mean_diff / pooled_std\n",
    "\n",
    "print(f'Independent t-test results:')\n",
    "print(f'T-statistic = {t_stat:.5f}') \n",
    "print(f'P-value = {p_value:.5f}')\n",
    "print(f'Cohen\\'s d (effect size) = {cohen_d:.5f}')"
   ]
  },
  {
   "cell_type": "markdown",
   "metadata": {},
   "source": [
    "## Check whether individuals with a higher BMI are more likely to have diabetes but now after controlling for smoking status and physical activity (i.e., removing the effect of those variables)."
   ]
  },
  {
   "cell_type": "code",
   "execution_count": 73,
   "metadata": {},
   "outputs": [
    {
     "name": "stdout",
     "output_type": "stream",
     "text": [
      "\n",
      "Two-Way ANOVA Results (Controlling for Smoking and Physical Activity):\n",
      "                    sum_sq        df             F  PR(>F)\n",
      "BMI            4513.513940       1.0  31390.510744     0.0\n",
      "Smoker          289.717427       1.0   2014.921885     0.0\n",
      "PhysActivity    738.234077       1.0   5134.257926     0.0\n",
      "Residual      83115.172211  578048.0           NaN     NaN\n",
      "\n",
      "Stratified T-Test Results (BMI & Diabetes within Smoking/Physical Activity Groups):\n",
      "   Smoker  PhysActivity  T-Statistic  P-Value\n",
      "0     1.0           0.0   -67.101023      0.0\n",
      "1     1.0           1.0   -90.793223      0.0\n",
      "2     0.0           0.0   -56.874521      0.0\n",
      "3     0.0           1.0  -102.822109      0.0\n"
     ]
    }
   ],
   "source": [
    "if 'Smoker' not in df.columns or 'PhysActivity' not in df.columns:\n",
    "    raise ValueError(\"The dataset must contain 'Smoker' and 'PhysActivity' columns\")\n",
    "\n",
    "anova_model = ols.ols('Diabetes_binary ~ BMI + Smoker + PhysActivity', data=df).fit()\n",
    "anova_table = sm.stats.anova_lm(anova_model, typ=2)\n",
    "\n",
    "stratified_results = []\n",
    "for smoker_status in df['Smoker'].unique():\n",
    "    for phys_activity_status in df['PhysActivity'].unique():\n",
    "        subgroup = df[(df['Smoker'] == smoker_status) & (df['PhysActivity'] == phys_activity_status)]\n",
    "        if len(subgroup) > 1:\n",
    "            t_stat, p_value = stats.ttest_ind(subgroup[subgroup['Diabetes_binary'] == 0]['BMI'],\n",
    "                                              subgroup[subgroup['Diabetes_binary'] == 1]['BMI'], equal_var=False)\n",
    "            stratified_results.append({\n",
    "                'Smoker': smoker_status,\n",
    "                'PhysActivity': phys_activity_status,\n",
    "                'T-Statistic': t_stat,\n",
    "                'P-Value': p_value\n",
    "            })\n",
    "\n",
    "stratified_results_df = pd.DataFrame(stratified_results)\n",
    "\n",
    "print(\"\\nTwo-Way ANOVA Results (Controlling for Smoking and Physical Activity):\")\n",
    "print(anova_table)\n",
    "\n",
    "print(\"\\nStratified T-Test Results (BMI & Diabetes within Smoking/Physical Activity Groups):\")\n",
    "print(stratified_results_df)"
   ]
  }
 ],
 "metadata": {
  "kernelspec": {
   "display_name": ".venv",
   "language": "python",
   "name": "python3"
  },
  "language_info": {
   "codemirror_mode": {
    "name": "ipython",
    "version": 3
   },
   "file_extension": ".py",
   "mimetype": "text/x-python",
   "name": "python",
   "nbconvert_exporter": "python",
   "pygments_lexer": "ipython3",
   "version": "3.13.1"
  }
 },
 "nbformat": 4,
 "nbformat_minor": 2
}
